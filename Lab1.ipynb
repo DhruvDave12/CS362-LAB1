{
  "nbformat": 4,
  "nbformat_minor": 0,
  "metadata": {
    "colab": {
      "provenance": [],
      "authorship_tag": "ABX9TyNis3VMMwELbv8Chidi1MD8",
      "include_colab_link": true
    },
    "kernelspec": {
      "name": "python3",
      "display_name": "Python 3"
    },
    "language_info": {
      "name": "python"
    }
  },
  "cells": [
    {
      "cell_type": "markdown",
      "metadata": {
        "id": "view-in-github",
        "colab_type": "text"
      },
      "source": [
        "<a href=\"https://colab.research.google.com/github/DhruvDave12/CS362-LAB1/blob/main/Lab1.ipynb\" target=\"_parent\"><img src=\"https://colab.research.google.com/assets/colab-badge.svg\" alt=\"Open In Colab\"/></a>"
      ]
    },
    {
      "cell_type": "code",
      "execution_count": 111,
      "metadata": {
        "id": "umCippI69_IK"
      },
      "outputs": [],
      "source": [
        "import numpy as np\n",
        "from copy import deepcopy\n",
        "import random\n",
        "import time\n",
        "import os, psutil\n",
        "import resource"
      ]
    },
    {
      "cell_type": "code",
      "source": [
        "def manhattanHeuristic(curr_state, goal_state):\n",
        "\n",
        "    goal_indices = np.argsort(goal_state.reshape(-1,1), axis=0)\n",
        "\n",
        "    curr_indices = np.argsort(curr_state.reshape(-1,1), axis=0)\n",
        "\n",
        "    # Finding the x and y distance from the goal indice to the curr state indice\n",
        "    x = (abs(goal_indices // 3 - curr_indices // 3))\n",
        "    y = (abs(goal_indices % 3 - curr_indices % 3))\n",
        "\n",
        "    mDist = np.sum(x + y)\n",
        "    # returning the manhattan distance\n",
        "    return mDist"
      ],
      "metadata": {
        "id": "XUst0wqa-Bl8"
      },
      "execution_count": 112,
      "outputs": []
    },
    {
      "cell_type": "code",
      "source": [
        "def misplacedTilesHeuristic(curr_state, goal_state):\n",
        "  \n",
        "    # h is the number of misplaced tiles between the curr state and goal state\n",
        "    misplacedTiles = np.sum(curr_state != goal_state)\n",
        "    return misplacedTiles"
      ],
      "metadata": {
        "id": "6X3t_UkL-GGg"
      },
      "execution_count": 113,
      "outputs": []
    },
    {
      "cell_type": "code",
      "source": [
        "# This routine generates a random instance of the 8-puzzle at the given depth (d) from the goal state.\n",
        "def generate_instance(goal_state, depth):\n",
        "\n",
        "    x_prev, y_prev = np.array(np.where(goal_state == 0)).reshape(-1)\n",
        "    curr_state = np.copy(goal_state)\n",
        "\n",
        "    visited = np.array([curr_state.reshape(-1)])\n",
        "    n = depth\n",
        " \n",
        "    while(n):\n",
        "        # Here we are storing the possible positions according to the conditions so that we are constrained inside the puzzle\n",
        "        possible_states = []\n",
        "        if x_prev > 0:\n",
        "            possible_states.append([x_prev-1, y_prev])\n",
        "        if x_prev < 2:\n",
        "            possible_states.append([x_prev+1, y_prev])\n",
        "        if y_prev > 0:\n",
        "            possible_states.append([x_prev, y_prev-1])\n",
        "        if y_prev < 2:\n",
        "            possible_states.append([x_prev, y_prev+1])\n",
        "\n",
        "        # choosing a random state from the possible states\n",
        "        x_new, y_new = random.choice(possible_states)\n",
        "\n",
        "        curr_state[x_new, y_new], curr_state[x_prev, y_prev] = curr_state[x_prev, y_prev], curr_state[x_new, y_new]\n",
        "\n",
        "        if curr_state.reshape(-1).tolist() not in visited.tolist():\n",
        "            visited = np.vstack((visited, curr_state.reshape(-1)))\n",
        "            n -= 1\n",
        "            x_prev, y_prev = x_new, y_new\n",
        "        else:\n",
        "            # go back to the prev state and do the same\n",
        "            curr_state[x_new, y_new], curr_state[x_prev, y_prev] = curr_state[x_prev, y_prev], curr_state[x_new, y_new]\n",
        "    return curr_state"
      ],
      "metadata": {
        "id": "bb2sGOQj-OV1"
      },
      "execution_count": 114,
      "outputs": []
    },
    {
      "cell_type": "code",
      "source": [
        "GOAL_STATE = np.array([[0, 1, 2], [3, 4, 5], [6, 7, 8]])\n",
        "print(\"Goal State:\\n\", GOAL_STATE)"
      ],
      "metadata": {
        "id": "ZEs6HOjs-Qmf",
        "colab": {
          "base_uri": "https://localhost:8080/"
        },
        "outputId": "277f82af-127c-4b8f-bbfc-5c96042b9755"
      },
      "execution_count": 115,
      "outputs": [
        {
          "output_type": "stream",
          "name": "stdout",
          "text": [
            "Goal State:\n",
            " [[0 1 2]\n",
            " [3 4 5]\n",
            " [6 7 8]]\n"
          ]
        }
      ]
    },
    {
      "cell_type": "code",
      "source": [
        "CURR_STATE_TEST = generate_instance(GOAL_STATE,10)"
      ],
      "metadata": {
        "id": "MQs_1CrmfiwM"
      },
      "execution_count": 116,
      "outputs": []
    },
    {
      "cell_type": "code",
      "source": [
        "# Heuristic 2\n",
        "print(\"Value from Manhattan Tiles Heuristic:\", manhattanHeuristic(CURR_STATE_TEST, GOAL_STATE))"
      ],
      "metadata": {
        "colab": {
          "base_uri": "https://localhost:8080/"
        },
        "id": "c2CyfHXPfqeB",
        "outputId": "e984c70e-325d-4825-c05d-3ec09c7ebca2"
      },
      "execution_count": 117,
      "outputs": [
        {
          "output_type": "stream",
          "name": "stdout",
          "text": [
            "Value from Manhattan Tiles Heuristic: 8\n"
          ]
        }
      ]
    },
    {
      "cell_type": "code",
      "source": [
        "# Heuristic 2\n",
        "print(\"Value from Misplaced Tiles Heuristic:\", misplacedTilesHeuristic(CURR_STATE_TEST, GOAL_STATE))"
      ],
      "metadata": {
        "id": "1RwjI5zh-WFs",
        "colab": {
          "base_uri": "https://localhost:8080/"
        },
        "outputId": "c4f653aa-6f3e-4551-ab0a-c600c1aec28f"
      },
      "execution_count": 118,
      "outputs": [
        {
          "output_type": "stream",
          "name": "stdout",
          "text": [
            "Value from Misplaced Tiles Heuristic: 5\n"
          ]
        }
      ]
    },
    {
      "cell_type": "code",
      "source": [
        "# A generic routine to simply find the position of an element in the matrix\n",
        "def find_pos(matrix,value):\n",
        "    if value < 0 or value > 8:\n",
        "      raise Exception (\"Give the value is out of range\")\n",
        "    else:\n",
        "      # print(matrix, value)\n",
        "      return np.array(np.where(matrix == value )).reshape(-1)"
      ],
      "metadata": {
        "id": "fcnP0PKe-ywH"
      },
      "execution_count": 119,
      "outputs": []
    },
    {
      "cell_type": "code",
      "source": [
        "# Playing the move of swapping the tile of the 8-puzzle game according to the desired state that our graph search agent gave us\n",
        "def swap_tiles(matrix,next_pos):\n",
        "    row,col=find_pos(matrix,0)\n",
        "    matrix[row, col], matrix[next_pos[0], next_pos[1]] = matrix[next_pos[0], next_pos[1]], matrix[row, col]\n",
        "\n",
        "    return matrix"
      ],
      "metadata": {
        "id": "ngojd10H-0Tx"
      },
      "execution_count": 120,
      "outputs": []
    },
    {
      "cell_type": "code",
      "source": [
        "# This gives the possible moves available from the current state that makes sure we are under our constraints.\n",
        "def possible_moves(current_state):\n",
        "    row,col=find_pos(current_state,0)\n",
        "    ans_list=[]\n",
        "    if(row>0):\n",
        "        ans_list.append([row-1,col])\n",
        "    if(row<2):\n",
        "        ans_list.append([row+1,col])\n",
        "    if(col>0):\n",
        "        ans_list.append([row,col-1])\n",
        "    if(col<2):\n",
        "        ans_list.append([row,col+1])\n",
        "    return ans_list"
      ],
      "metadata": {
        "id": "r0uqktfQ-2Ka"
      },
      "execution_count": 121,
      "outputs": []
    },
    {
      "cell_type": "code",
      "source": [
        "#  visited array to track the visited states\n",
        "visited = np.array([0]*9)"
      ],
      "metadata": {
        "id": "tyiGZcud-3fV"
      },
      "execution_count": 122,
      "outputs": []
    },
    {
      "cell_type": "code",
      "source": [
        "# routine that uses all the above routines and solve the 8-puzzle problem\n",
        "def solver(curr_state,visited,technique):\n",
        "    next_possible=[]\n",
        "    heurestic_val=[]\n",
        "    choosen_matrix=curr_state\n",
        "    visited = np.vstack((visited, choosen_matrix.reshape(-1)))\n",
        "    if (choosen_matrix == GOAL_STATE).all():\n",
        "        # print(\"GOAL STATE REACHED\")\n",
        "        return \n",
        "    for i in possible_moves(curr_state):\n",
        "       if np.array(i).reshape(-1).tolist() not in visited.tolist():\n",
        "        matrix2=deepcopy(curr_state)\n",
        "        temp=swap_tiles(matrix2,i)\n",
        "        next_possible.append(temp)\n",
        "\n",
        "        \n",
        "        c = 0\n",
        "        if(technique == \"manhattan\"):\n",
        "          c = manhattanHeuristic(temp,GOAL_STATE)\n",
        "        else: \n",
        "          c = misplacedTilesHeuristic(temp,GOAL_STATE)\n",
        "        # storing the heuristic vals here for all the possible moves from the current state\n",
        "        heurestic_val.append(c)\n",
        "    \n",
        "    # finding the move that had the minimum heuristic\n",
        "    for k in range(len(next_possible)):\n",
        "        if(heurestic_val[k]==min(heurestic_val)):\n",
        "            visited = np.vstack((visited, next_possible[k].reshape(-1)))\n",
        "            choosen_matrix=next_possible[k]\n",
        "\n",
        "    if (choosen_matrix == GOAL_STATE).all():\n",
        "        # print(\"GOAL STATE REACHED\")\n",
        "        return\n",
        "    else:\n",
        "        solver(choosen_matrix,visited,technique)\n",
        "        "
      ],
      "metadata": {
        "id": "3KTcONhs-5Rv"
      },
      "execution_count": 151,
      "outputs": []
    },
    {
      "cell_type": "code",
      "source": [
        "# Here we can change the second parameter that will give us the instance for a different depth we will analyze it.\n",
        "DEPTH = 4\n",
        "CURR_STATE = generate_instance(GOAL_STATE, DEPTH)"
      ],
      "metadata": {
        "id": "lX04l9QQ-ZOv"
      },
      "execution_count": 181,
      "outputs": []
    },
    {
      "cell_type": "code",
      "source": [
        "print(\"Current State at desired depth is: \",CURR_STATE)"
      ],
      "metadata": {
        "id": "vq-tMG8C-a2J",
        "colab": {
          "base_uri": "https://localhost:8080/"
        },
        "outputId": "d6e22628-38be-40dc-e086-696ecf53f6e9"
      },
      "execution_count": 182,
      "outputs": [
        {
          "output_type": "stream",
          "name": "stdout",
          "text": [
            "Current State at desired depth is:  [[1 4 2]\n",
            " [6 3 5]\n",
            " [0 7 8]]\n"
          ]
        }
      ]
    },
    {
      "cell_type": "code",
      "source": [
        "%%timeit\n",
        "solver(CURR_STATE, visited, \"manhattan\")"
      ],
      "metadata": {
        "id": "-7v2zgLh-91l",
        "colab": {
          "base_uri": "https://localhost:8080/"
        },
        "outputId": "a710a6b4-7d7c-4d99-e1fe-63f95c1a41b5"
      },
      "execution_count": 183,
      "outputs": [
        {
          "output_type": "stream",
          "name": "stdout",
          "text": [
            "1.05 ms ± 208 µs per loop (mean ± std. dev. of 7 runs, 1000 loops each)\n"
          ]
        }
      ]
    },
    {
      "cell_type": "code",
      "source": [
        "visited2 = np.array([0]*9)"
      ],
      "metadata": {
        "id": "pxv7dTx3qvSb"
      },
      "execution_count": 184,
      "outputs": []
    },
    {
      "cell_type": "code",
      "source": [
        "%%timeit\n",
        "solver(CURR_STATE, visited2, \"misplaced\")"
      ],
      "metadata": {
        "colab": {
          "base_uri": "https://localhost:8080/"
        },
        "id": "A6-mKfTbqmjM",
        "outputId": "6b7cdc53-874f-45f4-8676-d98115419d5a"
      },
      "execution_count": 185,
      "outputs": [
        {
          "output_type": "stream",
          "name": "stdout",
          "text": [
            "805 µs ± 165 µs per loop (mean ± std. dev. of 7 runs, 1000 loops each)\n"
          ]
        }
      ]
    }
  ]
}